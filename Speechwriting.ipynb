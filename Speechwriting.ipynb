{
  "nbformat": 4,
  "nbformat_minor": 0,
  "metadata": {
    "colab": {
      "provenance": [],
      "gpuType": "T4",
      "authorship_tag": "ABX9TyMIzTvsy+uWRseqStzT84Va",
      "include_colab_link": true
    },
    "kernelspec": {
      "name": "python3",
      "display_name": "Python 3"
    },
    "language_info": {
      "name": "python"
    },
    "accelerator": "GPU"
  },
  "cells": [
    {
      "cell_type": "markdown",
      "metadata": {
        "id": "view-in-github",
        "colab_type": "text"
      },
      "source": [
        "<a href=\"https://colab.research.google.com/github/Mattrfu/speechwriting-LLM/blob/main/Speechwriting.ipynb\" target=\"_parent\"><img src=\"https://colab.research.google.com/assets/colab-badge.svg\" alt=\"Open In Colab\"/></a>"
      ]
    },
    {
      "cell_type": "code",
      "execution_count": null,
      "metadata": {
        "id": "KDM-AM_VhKT1"
      },
      "outputs": [],
      "source": [
        "!pip install transformers\n",
        "!pip install datasets\n",
        "!pip install accelerate\n",
        "!pip install trl\n"
      ]
    },
    {
      "cell_type": "code",
      "source": [
        "from huggingface_hub import notebook_login\n",
        "\n",
        "notebook_login()"
      ],
      "metadata": {
        "id": "SfUd3uVkjR9C"
      },
      "execution_count": null,
      "outputs": []
    },
    {
      "cell_type": "code",
      "source": [
        "import torch\n",
        "\n",
        "device = torch.device(\"cuda\") if torch.cuda.is_available() else torch.device(\"cpu\")\n",
        "device"
      ],
      "metadata": {
        "id": "MThwWzAf9d2I"
      },
      "execution_count": null,
      "outputs": []
    },
    {
      "cell_type": "code",
      "source": [
        "from transformers import AutoTokenizer\n",
        "import transformers\n",
        "import torch\n",
        "\n",
        "model = \"meta-llama/Llama-2-7b-hf\"\n",
        "\n",
        "tokenizer = AutoTokenizer.from_pretrained(model)\n",
        "pipeline = transformers.pipeline(\n",
        "    \"text-generation\",\n",
        "    model=model,\n",
        "    torch_dtype=torch.float16,\n",
        "    device_map=\"auto\",\n",
        ")\n",
        "\n",
        "text = \"Write a speech in the style of David Hogg about waffles\"\n",
        "sequences = pipeline(\n",
        "    text,\n",
        "    do_sample=True,\n",
        "    top_k=10,\n",
        "    num_return_sequences=1,\n",
        "    eos_token_id=tokenizer.eos_token_id,\n",
        "    max_length=1000,\n",
        ")\n",
        "for seq in sequences:\n",
        "    print(f\"Result: {seq['generated_text']}\")\n"
      ],
      "metadata": {
        "id": "OgTeXT7XiLiU"
      },
      "execution_count": null,
      "outputs": []
    },
    {
      "cell_type": "code",
      "source": [
        "from transformers import AutoTokenizer, AutoModelForCausalLM\n",
        "\n",
        "tokenizer = AutoTokenizer.from_pretrained(\"meta-llama/Llama-2-7b-chat-hf\")\n",
        "model = AutoModelForCausalLM.from_pretrained(\"meta-llama/Llama-2-7b-chat-hf\", device_map=\"auto\")"
      ],
      "metadata": {
        "id": "3p5JmnvMQ45X"
      },
      "execution_count": null,
      "outputs": []
    },
    {
      "cell_type": "code",
      "source": [
        "!export 'PYTORCH_CUDA_ALLOC_CONF=max_split_size_mb:16'"
      ],
      "metadata": {
        "id": "2uYlkV-DTFYv"
      },
      "execution_count": null,
      "outputs": []
    },
    {
      "cell_type": "code",
      "source": [
        "text = \"Write a speech in the style of David Hogg about waffles\"\n",
        "inputs = tokenizer(text, return_tensors = \"pt\")\n",
        "outputs = model(**inputs)\n",
        "print(inputs)\n",
        "print(outputs)"
      ],
      "metadata": {
        "id": "QmN2byjOI_mv"
      },
      "execution_count": null,
      "outputs": []
    },
    {
      "cell_type": "code",
      "source": [
        "!curl https://huggingface.co/datasets/clam004/antihallucination_dataset/resolve/main/antihallucination.jsonl -o antiha llucination.jsonl\n"
      ],
      "metadata": {
        "id": "i2S1NbkOPlm9"
      },
      "execution_count": null,
      "outputs": []
    },
    {
      "cell_type": "code",
      "source": [
        "from transformers import AutoTokenizer\n",
        "\n",
        "tokenizer = AutoTokenizer.from_pretrained(\"meta-llama/Llama-2-7b-chat-hf\")"
      ],
      "metadata": {
        "id": "AZ3Ok_Jqglik"
      },
      "execution_count": null,
      "outputs": []
    },
    {
      "cell_type": "code",
      "source": [
        "text = \"<Prompt>: Write a short length speech for a national audience in the style of David Hogg on the topic of gun control. <Bot>:First off, I’m gonna start off by putting this price tag right here as a reminder for you guys to know how much Marco Rubio took for every student’s life in Florida. One dollar and five cents. The cold grasp of corruption shackles the District of Columbia. The winter is over. Change is here. The sun shines on a new day, and the day is ours. First-time voters show up 18 percent of the time at midterm elections. Not anymore. Now, who here is gonna vote in the 2018 election? If you listen real close, you can hear the people in power shaking. They’ve gotten used to being protective of their position, the safety of inaction. Inaction is no longer safe. And to that, we say: No more. Ninety-six people die every day from guns in our country, yet most representatives have no public stance on guns. And to that, we say: No more. We are going to make this the voting issue. We are going to take this to every election, to every state, in every city. We are going to make sure the best people get in our elections to run, not as politicians, but as Americans. Because this — this is not cutting it. When people try to suppress your vote, and there are people who stand against you because you’re too young, we say: No more. When politicians say that your voice doesn’t matter because the NRA owns them, we say: No more. When politicians send their thoughts and prayers with no action, we say: No more. And to those politicians supported by the NRA, that allow the continued slaughter of our children and our future, I say: Get your résumés ready. Today is the beginning of spring, and tomorrow is the beginning of democracy. Now is the time to come together, not as Democrats, not as Republicans, but as Americans. Americans of the same flesh and blood, that care about one thing and one thing only, and that’s the future of this country and the children that are going to lead it. Now, they will try to separate us in demographics. They will try to separate us by religion, race, congressional district and class. They will fail. We will come together. We will get rid of these public servants that only serve the gun lobby, and we will save lives. You are those heroes. Lastly, let’s put the USA over the NRA. This is the start of the spring and the blossoming of our democracy. So let’s take this to our local legislators, and let’s take this to midterm elections, because without the persistence — heat — without the persistence of voters and Americans everywhere, getting out to every election, democracy will not flourish. But it can, and it will. So, I say to those politicians that say change will not come, I say: We will not stop until every man, every woman, every child, and every American can live without fear of gun violence. And to that, I say: No more. Thank you, I love you all, God bless all of you, and God bless America. We can, and we will, change the world.\"\n",
        "inputs = tokenizer(text, return_tensors = \"pt\")"
      ],
      "metadata": {
        "id": "MJb8apydg4b-"
      },
      "execution_count": null,
      "outputs": []
    },
    {
      "cell_type": "code",
      "source": [
        "inputs"
      ],
      "metadata": {
        "id": "LD6H9OPDhBsS"
      },
      "execution_count": null,
      "outputs": []
    },
    {
      "cell_type": "code",
      "source": [
        "inputs[\"input_ids\"].shape"
      ],
      "metadata": {
        "id": "LFK2eLNThFRx"
      },
      "execution_count": null,
      "outputs": []
    }
  ]
}